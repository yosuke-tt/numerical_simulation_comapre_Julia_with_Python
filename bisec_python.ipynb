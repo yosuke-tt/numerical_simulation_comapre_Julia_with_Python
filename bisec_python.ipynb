{
 "cells": [
  {
   "cell_type": "code",
   "execution_count": 1,
   "metadata": {},
   "outputs": [],
   "source": [
    "import numpy as np\n",
    "import matplotlib.pyplot as plt\n",
    "import matplotlib.animation as animation\n",
    "import os"
   ]
  },
  {
   "cell_type": "code",
   "execution_count": 2,
   "metadata": {},
   "outputs": [],
   "source": [
    "def func(x):\n",
    "    return x**2 - 2"
   ]
  },
  {
   "cell_type": "code",
   "execution_count": 25,
   "metadata": {},
   "outputs": [],
   "source": [
    "#動画用\n",
    "def bisec(func , x_max : float, x_min : float, LIMIT = 1e-10 ):\n",
    "    \n",
    "    import time\n",
    "    start = time.time()\n",
    "    \n",
    "    x_mid = ( x_max + x_min ) / 2  \n",
    "    i = 0\n",
    "    \n",
    "    while(  x_max - x_mid   > LIMIT ):\n",
    "        \n",
    "        if func( x_mid ) > 0:\n",
    "            x_max = x_mid\n",
    "            \n",
    "        elif func( x_mid ) == 0 :\n",
    "            break\n",
    "        else:\n",
    "            x_min = x_mid\n",
    "        \n",
    "        x_mid =( x_min + x_max ) / 2\n",
    "        i += 1\n",
    "      \n",
    "    print(i)\n",
    "    print(time.time() - start)    \n",
    "    print(x_mid)"
   ]
  },
  {
   "cell_type": "code",
   "execution_count": 29,
   "metadata": {},
   "outputs": [
    {
     "name": "stdout",
     "output_type": "stream",
     "text": [
      "31\n",
      "0.0\n",
      "1.4142135623143985\n"
     ]
    }
   ],
   "source": [
    "bisec(func, 1.5, 1.2)"
   ]
  },
  {
   "cell_type": "code",
   "execution_count": null,
   "metadata": {},
   "outputs": [],
   "source": []
  },
  {
   "cell_type": "code",
   "execution_count": 41,
   "metadata": {},
   "outputs": [],
   "source": [
    "# 動画\n",
    "def bisec(func , x_max : float, x_min : float, answer : float= np.nan ,movie = False, LIMIT = 1e-10 ):\n",
    "    \n",
    "    import time\n",
    "    \n",
    "    \n",
    "    x_mid = ( x_max + x_min ) / 2  \n",
    "    start = time.time()\n",
    "    \n",
    "\n",
    "    if movie:\n",
    "        \n",
    "        import matplotlib.animation as animation\n",
    "        DIR = \"./img_tmp_{}\".format(time.time())\n",
    "        \n",
    "        os.makedirs(DIR, exist_ok=True)\n",
    "        os.chmod(DIR, 644)\n",
    "        \n",
    "        fig = plt.figure()\n",
    "        \n",
    "        R = np.arange(0.1, LIMIT, -0.01)\n",
    "        \n",
    "        \n",
    "        ims = []\n",
    "        i = 0\n",
    "        er = 1\n",
    "        E = 0.01\n",
    "        \n",
    "        rr = (x_max - x_mid) + E\n",
    "        \n",
    "        x_r_min = x_mid - rr\n",
    "        x_r_max = x_mid + rr\n",
    "            \n",
    "        y_r = max(func(x_r_min - rr), func(x_r_max + rr))\n",
    "            \n",
    "        \n",
    "        \n",
    "        \n",
    "        x = np.arange(x_min - 0.1, x_max + 0.1, E)\n",
    "        \n",
    "        \n",
    "    while( np.abs( x_mid - x_max ) > LIMIT ):\n",
    "        \n",
    "        if movie:\n",
    "            \n",
    "            r = x_max - x_mid\n",
    "            \n",
    "            if r / rr < E:\n",
    "                \n",
    "                er += 5\n",
    "                E = 10**(-1*er)\n",
    "                \n",
    "                rr = x_max - x_mid + E\n",
    "                \n",
    "                \n",
    "                x = np.arange(x_min - rr, x_max + rr, E)\n",
    "                \n",
    "                \n",
    "                x_r_min = x_mid - rr\n",
    "                x_r_max = x_mid + rr\n",
    "                \n",
    "                y_r = max(func(x_r_min - rr ), func(x_r_max + rr))\n",
    "                \n",
    "            \n",
    "            \n",
    "            plt.title(\"n = {:05}  :   {}\".format( i, x_mid ))\n",
    "            plt.xlim([x_r_min, x_r_max])\n",
    "            \n",
    "            plt.hlines(0, xmin =x_r_min, xmax = x_r_max, linewidth = 0.5, color = \"blue\")\n",
    "            \n",
    "            if answer:\n",
    "                plt.vlines(answer, ymin = -y_r, ymax = y_r, linewidth = 0.5, color = \"blue\")\n",
    "            \n",
    "            plt.ylim([ -y_r, y_r])\n",
    "            \n",
    "            plt.plot( x, func(x), c = \"k\")\n",
    "            plt.grid(True)\n",
    "            plt.legend()\n",
    "            \n",
    "            line = plt.scatter( [ x_min, x_mid, x_max ], [ func(x_min), func(x_mid), func(x_max) ], c = [\"red\", \"purple\", \"blue\"], label = [ \"min\", \"mid\", \"max\" ])\n",
    "            \n",
    "            plt.savefig(os.path.join( DIR, \"img_{:05d}.png\".format(i)))\n",
    "            \n",
    "            i+=1\n",
    "            \n",
    "            \n",
    "        if func( x_mid ) > 0:\n",
    "            x_max = x_mid\n",
    "            \n",
    "        elif func( x_mid ) == 0 :\n",
    "            break\n",
    "        else:\n",
    "            x_min = x_mid\n",
    "        \n",
    "        \n",
    "        \n",
    "        x_mid =( x_min + x_max ) / 2\n",
    "    \n",
    "    if movie:\n",
    "        from PIL import Image\n",
    "        from glob import glob\n",
    "        images = []\n",
    "\n",
    "        for path in glob(os.path.join(DIR, \"*.png\")):\n",
    "\n",
    "            im = Image.open(path)\n",
    "            images.append(im)\n",
    "        \n",
    "        \n",
    "        os.makedirs(\"./gif\", exist_ok=True)\n",
    "        images[0].save('./gif/bisec.gif', save_all=True, append_images=images[1:], loop=0, duration=500)\n",
    "        \n",
    "        \n",
    "        \n",
    "        os.remove(DIR)\n",
    "    print(time.time() - start)    \n",
    "    print(x_mid)"
   ]
  },
  {
   "cell_type": "code",
   "execution_count": 42,
   "metadata": {},
   "outputs": [
    {
     "name": "stderr",
     "output_type": "stream",
     "text": [
      "No handles with labels found to put in legend.\n"
     ]
    },
    {
     "ename": "PermissionError",
     "evalue": "[WinError 5] アクセスが拒否されました。: './img_tmp_1586249067.7490404'",
     "output_type": "error",
     "traceback": [
      "\u001b[1;31m---------------------------------------------------------------------------\u001b[0m",
      "\u001b[1;31mPermissionError\u001b[0m                           Traceback (most recent call last)",
      "\u001b[1;32m<ipython-input-42-7a3809b10225>\u001b[0m in \u001b[0;36m<module>\u001b[1;34m\u001b[0m\n\u001b[1;32m----> 1\u001b[1;33m \u001b[0mbisec\u001b[0m\u001b[1;33m(\u001b[0m\u001b[0mfunc\u001b[0m\u001b[1;33m,\u001b[0m \u001b[1;36m1.5\u001b[0m\u001b[1;33m,\u001b[0m \u001b[1;36m1.2\u001b[0m\u001b[1;33m,\u001b[0m \u001b[0manswer\u001b[0m \u001b[1;33m=\u001b[0m \u001b[0mnp\u001b[0m\u001b[1;33m.\u001b[0m\u001b[0msqrt\u001b[0m\u001b[1;33m(\u001b[0m\u001b[1;36m2\u001b[0m\u001b[1;33m)\u001b[0m\u001b[1;33m,\u001b[0m\u001b[0mmovie\u001b[0m\u001b[1;33m=\u001b[0m\u001b[1;32mTrue\u001b[0m\u001b[1;33m)\u001b[0m\u001b[1;33m\u001b[0m\u001b[1;33m\u001b[0m\u001b[0m\n\u001b[0m",
      "\u001b[1;32m<ipython-input-41-4350b0b32d6b>\u001b[0m in \u001b[0;36mbisec\u001b[1;34m(func, x_max, x_min, answer, movie, LIMIT)\u001b[0m\n\u001b[0;32m    113\u001b[0m \u001b[1;33m\u001b[0m\u001b[0m\n\u001b[0;32m    114\u001b[0m \u001b[1;33m\u001b[0m\u001b[0m\n\u001b[1;32m--> 115\u001b[1;33m         \u001b[0mos\u001b[0m\u001b[1;33m.\u001b[0m\u001b[0mremove\u001b[0m\u001b[1;33m(\u001b[0m\u001b[0mDIR\u001b[0m\u001b[1;33m)\u001b[0m\u001b[1;33m\u001b[0m\u001b[1;33m\u001b[0m\u001b[0m\n\u001b[0m\u001b[0;32m    116\u001b[0m     \u001b[0mprint\u001b[0m\u001b[1;33m(\u001b[0m\u001b[0mtime\u001b[0m\u001b[1;33m.\u001b[0m\u001b[0mtime\u001b[0m\u001b[1;33m(\u001b[0m\u001b[1;33m)\u001b[0m \u001b[1;33m-\u001b[0m \u001b[0mstart\u001b[0m\u001b[1;33m)\u001b[0m\u001b[1;33m\u001b[0m\u001b[1;33m\u001b[0m\u001b[0m\n\u001b[0;32m    117\u001b[0m     \u001b[0mprint\u001b[0m\u001b[1;33m(\u001b[0m\u001b[0mx_mid\u001b[0m\u001b[1;33m)\u001b[0m\u001b[1;33m\u001b[0m\u001b[1;33m\u001b[0m\u001b[0m\n",
      "\u001b[1;31mPermissionError\u001b[0m: [WinError 5] アクセスが拒否されました。: './img_tmp_1586249067.7490404'"
     ]
    },
    {
     "data": {
      "image/png": "[encoded data removed]",
      "text/plain": [
       "<Figure size 432x288 with 1 Axes>"
      ]
     },
     "metadata": {
      "needs_background": "light"
     },
     "output_type": "display_data"
    }
   ],
   "source": [
    "bisec(func, 1.5, 1.2, answer = np.sqrt(2),movie=True)"
   ]
  },
  {
   "cell_type": "code",
   "execution_count": null,
   "metadata": {},
   "outputs": [],
   "source": []
  }
 ],
 "metadata": {
  "kernelspec": {
   "display_name": "Python 3",
   "language": "python",
   "name": "python3"
  },
  "language_info": {
   "codemirror_mode": {
    "name": "ipython",
    "version": 3
   },
   "file_extension": ".py",
   "mimetype": "text/x-python",
   "name": "python",
   "nbconvert_exporter": "python",
   "pygments_lexer": "ipython3",
   "version": "3.7.6"
  }
 },
 "nbformat": 4,
 "nbformat_minor": 4
}
