{
 "cells": [
  {
   "cell_type": "markdown",
   "metadata": {},
   "source": [
    "# Juliaで二分法"
   ]
  },
  {
   "cell_type": "markdown",
   "metadata": {},
   "source": [
    "Pythonと比べてもJuliaを高速化しなくても速度が速すぎて恩恵はなかった"
   ]
  },
  {
   "cell_type": "code",
   "execution_count": 1,
   "metadata": {},
   "outputs": [
    {
     "data": {
      "text/plain": [
       "func (generic function with 1 method)"
      ]
     },
     "execution_count": 1,
     "metadata": {},
     "output_type": "execute_result"
    }
   ],
   "source": [
    "function func( x :: Float64 )\n",
    "    return x^2 - 2\n",
    "end"
   ]
  },
  {
   "cell_type": "code",
   "execution_count": 79,
   "metadata": {},
   "outputs": [
    {
     "data": {
      "text/plain": [
       "bisec_base (generic function with 8 methods)"
      ]
     },
     "execution_count": 79,
     "metadata": {},
     "output_type": "execute_result"
    }
   ],
   "source": [
    "function bisec_base( func, x_max, x_min , LIMIT = 1e-10)\n",
    "    \n",
    "#     func(x) = x^2 - 2\n",
    "    \n",
    "    x_mid = ( x_max + x_min ) / 2  \n",
    "\n",
    "        \n",
    "    @time while  abs( x_mid - x_max ) > LIMIT \n",
    "            \n",
    "        if func( x_mid ) > 0\n",
    "            x_max = x_mid\n",
    "            \n",
    "        elseif func( x_mid ) == 0 \n",
    "            break\n",
    "        else\n",
    "            x_min = x_mid\n",
    "        end\n",
    "        \n",
    "        x_mid =( x_min + x_max ) / 2\n",
    "    end\n",
    "    \n",
    "    println(x_mid)\n",
    "    return x_mid\n",
    "end"
   ]
  },
  {
   "cell_type": "code",
   "execution_count": 80,
   "metadata": {},
   "outputs": [
    {
     "name": "stdout",
     "output_type": "stream",
     "text": [
      "  0.000000 seconds\n",
      "型指定\n",
      "31\n",
      "1.4142135623143985"
     ]
    },
    {
     "data": {
      "text/plain": [
       "1.4142135623143985"
      ]
     },
     "execution_count": 80,
     "metadata": {},
     "output_type": "execute_result"
    }
   ],
   "source": [
    "bisec_base(func, 1.5, 1.2)"
   ]
  },
  {
   "cell_type": "code",
   "execution_count": 86,
   "metadata": {},
   "outputs": [
    {
     "data": {
      "text/plain": [
       "bisec_1 (generic function with 2 methods)"
      ]
     },
     "execution_count": 86,
     "metadata": {},
     "output_type": "execute_result"
    }
   ],
   "source": [
    "function bisec_1( func, x_max :: Float64 , x_min :: Float64, LIMIT :: Float64= 1e-10)\n",
    "    \n",
    "#     func(x) = x^2 - 2\n",
    "    \n",
    "    x_mid::Float64 = ( x_max + x_min ) / 2  \n",
    "    i::Int16 = 0\n",
    "        \n",
    "    @time while x_max - x_mid  > LIMIT \n",
    "            \n",
    "        if func( x_mid ) > 0\n",
    "            x_max = x_mid\n",
    "            \n",
    "        elseif func( x_mid ) == 0\n",
    "            break\n",
    "        else\n",
    "            x_min = x_mid\n",
    "        end\n",
    "        \n",
    "        x_mid =( x_min + x_max ) / 2\n",
    "        i += 1\n",
    "    end\n",
    "    \n",
    "    println(i)\n",
    "    print( x_mid )\n",
    "    \n",
    "    \n",
    "    return x_mid\n",
    "end"
   ]
  },
  {
   "cell_type": "code",
   "execution_count": 87,
   "metadata": {},
   "outputs": [
    {
     "name": "stdout",
     "output_type": "stream",
     "text": [
      "  0.000000 seconds\n",
      "31\n",
      "1.4142135623143985"
     ]
    },
    {
     "data": {
      "text/plain": [
       "1.4142135623143985"
      ]
     },
     "execution_count": 87,
     "metadata": {},
     "output_type": "execute_result"
    }
   ],
   "source": [
    "bisec_1(func, 1.5, 1.2)"
   ]
  },
  {
   "cell_type": "code",
   "execution_count": null,
   "metadata": {},
   "outputs": [],
   "source": []
  },
  {
   "cell_type": "code",
   "execution_count": null,
   "metadata": {},
   "outputs": [],
   "source": []
  }
 ],
 "metadata": {
  "kernelspec": {
   "display_name": "Julia 1.4.0",
   "language": "julia",
   "name": "julia-1.4"
  },
  "language_info": {
   "file_extension": ".jl",
   "mimetype": "application/julia",
   "name": "julia",
   "version": "1.4.0"
  }
 },
 "nbformat": 4,
 "nbformat_minor": 4
}
